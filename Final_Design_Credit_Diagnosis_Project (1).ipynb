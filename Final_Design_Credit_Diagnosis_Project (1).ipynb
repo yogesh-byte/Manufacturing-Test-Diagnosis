{
  "nbformat": 4,
  "nbformat_minor": 0,
  "metadata": {
    "colab": {
      "name": "Final Design Credit Diagnosis Project ",
      "provenance": [],
      "collapsed_sections": []
    },
    "kernelspec": {
      "name": "python3",
      "display_name": "Python 3"
    },
    "language_info": {
      "name": "python"
    }
  },
  "cells": [
    {
      "cell_type": "markdown",
      "source": [
        "# Preprocessing"
      ],
      "metadata": {
        "id": "l0BFCzgRsqVg"
      }
    },
    {
      "cell_type": "code",
      "execution_count": null,
      "metadata": {
        "id": "JEFLc18p4ehi"
      },
      "outputs": [],
      "source": [
        "# Read the input file\n",
        "with open('/content/TRAINING20x50.txt') as f:\n",
        "    lines = f.readlines()"
      ]
    },
    {
      "cell_type": "code",
      "source": [
        "labels =[]\n",
        "entries = []\n",
        "count = 0\n",
        "rlen=0"
      ],
      "metadata": {
        "id": "qL1ZCd6s44UL"
      },
      "execution_count": null,
      "outputs": []
    },
    {
      "cell_type": "code",
      "source": [
        "for i in lines:\n",
        "  if i.startswith('label'):\n",
        "    sample_lab = i.split('\\n')[0].split()[-1]\n",
        "    labels.append(list(map(int, sample_lab.split(','))))\n",
        "    count+=1\n",
        "  elif i!='\\n':\n",
        "    entry = i.split('\\n')[0].split()\n",
        "    entry =\"\".join(entry)\n",
        "    gg = [int(i) for i in entry]\n",
        "    rlen=len(gg)\n",
        "    entries.append(gg)\n",
        "  else:\n",
        "    continue"
      ],
      "metadata": {
        "id": "uhLwBIMk4xBZ"
      },
      "execution_count": null,
      "outputs": []
    },
    {
      "cell_type": "code",
      "source": [
        "rlen"
      ],
      "metadata": {
        "colab": {
          "base_uri": "https://localhost:8080/"
        },
        "id": "vrdAxBxioI-Y",
        "outputId": "6b4d62ef-5a7c-46cc-af63-5a30cf6a029c"
      },
      "execution_count": null,
      "outputs": [
        {
          "output_type": "execute_result",
          "data": {
            "text/plain": [
              "21"
            ]
          },
          "metadata": {},
          "execution_count": 77
        }
      ]
    },
    {
      "cell_type": "code",
      "source": [
        "final_labels = []\n",
        "for i, j in enumerate(labels):\n",
        "    final_labels.append(j)"
      ],
      "metadata": {
        "id": "KYV3a_z06q7i"
      },
      "execution_count": null,
      "outputs": []
    },
    {
      "cell_type": "code",
      "source": [
        "import numpy as np\n",
        "entries = np.array(entries)\n",
        "final_labels = np.array(final_labels)\n",
        "entries = entries.reshape(len(final_labels), -1)"
      ],
      "metadata": {
        "id": "W2Doeo-W64CJ"
      },
      "execution_count": null,
      "outputs": []
    },
    {
      "cell_type": "code",
      "source": [
        "sz= len(entries[0])"
      ],
      "metadata": {
        "id": "hJUe5AdeVQvo"
      },
      "execution_count": null,
      "outputs": []
    },
    {
      "cell_type": "code",
      "source": [
        ""
      ],
      "metadata": {
        "id": "uBsMMoAdoqjv"
      },
      "execution_count": null,
      "outputs": []
    },
    {
      "cell_type": "code",
      "source": [
        "row_feat = entries[:, list(range(0, sz, rlen))]\n",
        "col_feat = entries[:, [_ for _ in range(len(entries[0])) if _ not in list(range(0, sz, rlen))]]"
      ],
      "metadata": {
        "id": "KEKjXs04o2cr"
      },
      "execution_count": null,
      "outputs": []
    },
    {
      "cell_type": "code",
      "source": [
        "#split the dataset \n",
        "from sklearn.model_selection import train_test_split as tts\n",
        "train_entries, val_entries, train_labels, val_labels = tts(entries, final_labels, test_size = 0.2,shuffle=False)"
      ],
      "metadata": {
        "id": "bXPU-q-Q83fM"
      },
      "execution_count": null,
      "outputs": []
    },
    {
      "cell_type": "code",
      "source": [
        "train_row_entries, val_row_entries, train_row_labels, val_row_labels = tts(row_feat, final_labels[:, 1], test_size = 0.2,shuffle=False)"
      ],
      "metadata": {
        "id": "8heggzaJqUIK"
      },
      "execution_count": null,
      "outputs": []
    },
    {
      "cell_type": "markdown",
      "source": [
        "# Linear Regression"
      ],
      "metadata": {
        "id": "PhrrurW73KSS"
      }
    },
    {
      "cell_type": "markdown",
      "source": [
        "## For Row"
      ],
      "metadata": {
        "id": "M4bdOu_-3Hlp"
      }
    },
    {
      "cell_type": "code",
      "source": [
        "from sklearn.linear_model import LinearRegression\n",
        "row_model = LinearRegression()\n",
        "row_model.fit(train_row_entries, train_row_labels)"
      ],
      "metadata": {
        "colab": {
          "base_uri": "https://localhost:8080/"
        },
        "id": "nrg23r9Tqgo4",
        "outputId": "39713945-a010-4b52-db5a-1392b101d644"
      },
      "execution_count": null,
      "outputs": [
        {
          "output_type": "execute_result",
          "data": {
            "text/plain": [
              "LinearRegression()"
            ]
          },
          "metadata": {},
          "execution_count": 84
        }
      ]
    },
    {
      "cell_type": "code",
      "source": [
        "#Predict the response for test dataset\n",
        "y_pred_row = row_model.predict(val_row_entries)\n",
        "y_pred_row"
      ],
      "metadata": {
        "colab": {
          "base_uri": "https://localhost:8080/"
        },
        "outputId": "97c711ef-80d9-482a-93a5-944dd6c266f1",
        "id": "Gd3-ZrFY7p4d"
      },
      "execution_count": null,
      "outputs": [
        {
          "output_type": "execute_result",
          "data": {
            "text/plain": [
              "array([4.50000000e+01, 2.50000000e+01, 3.55271368e-14, 3.30000000e+01,\n",
              "       1.40000000e+01, 7.00000000e+00, 4.60000000e+01, 2.20000000e+01,\n",
              "       1.00000000e+01, 3.10000000e+01, 5.00000000e+00, 2.10000000e+01,\n",
              "       1.00000000e+00, 8.00000000e+00, 2.60000000e+01, 3.90000000e+01,\n",
              "       1.60000000e+01, 5.00000000e+00, 1.40000000e+01, 3.00000000e+00,\n",
              "       4.80000000e+01, 1.10000000e+01, 3.20000000e+01, 4.70000000e+01,\n",
              "       2.00000000e+00, 4.60000000e+01, 2.10000000e+01, 4.70000000e+01,\n",
              "       1.80000000e+01, 2.60000000e+01, 9.00000000e+00, 2.40000000e+01,\n",
              "       2.20000000e+01, 4.30000000e+01, 3.00000000e+00, 4.70000000e+01,\n",
              "       2.60000000e+01, 3.55271368e-14, 1.10000000e+01, 5.00000000e+00,\n",
              "       1.60000000e+01, 1.10000000e+01, 2.30000000e+01, 3.55271368e-14,\n",
              "       3.10000000e+01, 4.90000000e+01, 4.30000000e+01, 2.20000000e+01,\n",
              "       3.10000000e+01, 2.60000000e+01, 4.70000000e+01, 2.10000000e+01,\n",
              "       2.20000000e+01, 3.90000000e+01, 1.50000000e+01, 8.00000000e+00,\n",
              "       6.00000000e+00, 4.80000000e+01, 2.10000000e+01, 4.60000000e+01,\n",
              "       2.00000000e+01, 2.90000000e+01, 9.00000000e+00, 1.90000000e+01,\n",
              "       1.70000000e+01, 2.60000000e+01, 1.80000000e+01, 2.80000000e+01,\n",
              "       1.80000000e+01, 4.90000000e+01, 3.60000000e+01, 2.00000000e+01,\n",
              "       2.10000000e+01, 1.50000000e+01, 1.80000000e+01, 3.10000000e+01,\n",
              "       3.70000000e+01, 3.60000000e+01, 1.00000000e+01, 2.40000000e+01,\n",
              "       2.00000000e+00, 1.80000000e+01, 3.50000000e+01, 1.10000000e+01,\n",
              "       2.70000000e+01, 1.80000000e+01, 1.30000000e+01, 4.20000000e+01,\n",
              "       3.80000000e+01, 5.00000000e+00, 4.70000000e+01, 4.30000000e+01,\n",
              "       3.70000000e+01, 4.30000000e+01, 1.00000000e+00, 4.70000000e+01,\n",
              "       3.00000000e+00, 3.40000000e+01, 2.50000000e+01, 1.40000000e+01,\n",
              "       2.20000000e+01, 6.00000000e+00, 4.30000000e+01, 3.00000000e+01,\n",
              "       1.10000000e+01, 1.80000000e+01, 1.60000000e+01, 1.80000000e+01,\n",
              "       3.10000000e+01, 2.90000000e+01, 9.00000000e+00, 3.60000000e+01,\n",
              "       1.50000000e+01, 2.00000000e+01, 3.00000000e+01, 5.00000000e+00,\n",
              "       2.10000000e+01, 9.00000000e+00, 2.00000000e+00, 5.00000000e+00,\n",
              "       2.50000000e+01, 3.50000000e+01, 3.00000000e+01, 4.70000000e+01,\n",
              "       8.00000000e+00, 4.00000000e+01, 8.00000000e+00, 4.00000000e+01,\n",
              "       2.40000000e+01, 4.70000000e+01, 3.50000000e+01, 3.55271368e-14,\n",
              "       5.00000000e+00, 4.10000000e+01, 3.10000000e+01, 1.50000000e+01,\n",
              "       2.50000000e+01, 1.20000000e+01, 5.00000000e+00, 4.30000000e+01,\n",
              "       2.10000000e+01, 1.20000000e+01, 1.80000000e+01, 1.70000000e+01,\n",
              "       3.55271368e-14, 3.50000000e+01, 1.90000000e+01, 3.00000000e+00,\n",
              "       2.90000000e+01, 5.00000000e+00, 1.10000000e+01, 2.00000000e+00,\n",
              "       3.30000000e+01, 3.70000000e+01, 3.00000000e+00, 2.00000000e+01,\n",
              "       1.80000000e+01, 1.30000000e+01, 2.00000000e+00, 1.90000000e+01,\n",
              "       5.00000000e+00, 4.40000000e+01, 2.60000000e+01, 2.30000000e+01,\n",
              "       2.90000000e+01, 3.80000000e+01, 2.10000000e+01, 2.10000000e+01,\n",
              "       3.30000000e+01, 5.00000000e+00, 2.90000000e+01, 1.20000000e+01,\n",
              "       3.70000000e+01, 3.30000000e+01, 3.50000000e+01, 4.30000000e+01,\n",
              "       1.20000000e+01, 1.00000000e+00, 7.00000000e+00, 1.90000000e+01,\n",
              "       2.10000000e+01, 4.80000000e+01, 4.70000000e+01, 3.80000000e+01,\n",
              "       2.20000000e+01, 2.80000000e+01, 1.00000000e+00, 4.00000000e+01,\n",
              "       1.00000000e+00, 4.70000000e+01, 2.10000000e+01, 1.00000000e+00,\n",
              "       2.10000000e+01, 2.10000000e+01, 1.00000000e+01, 4.10000000e+01,\n",
              "       1.20000000e+01, 1.50000000e+01, 4.30000000e+01, 2.90000000e+01])"
            ]
          },
          "metadata": {},
          "execution_count": 85
        }
      ]
    },
    {
      "cell_type": "code",
      "source": [
        "val_row_labels"
      ],
      "metadata": {
        "outputId": "a789540b-38e4-40a3-d6b1-774dd11cda31",
        "colab": {
          "base_uri": "https://localhost:8080/"
        },
        "id": "ebZituga7p4f"
      },
      "execution_count": null,
      "outputs": [
        {
          "output_type": "execute_result",
          "data": {
            "text/plain": [
              "array([45, 25,  0, 33, 14,  7, 46, 22, 10, 31,  5, 21,  1,  8, 26, 39, 16,\n",
              "        5, 14,  3, 48, 11, 32, 47,  2, 46, 21, 47, 18, 26,  9, 24, 22, 43,\n",
              "        3, 47, 26,  0, 11,  5, 16, 11, 23,  0, 31, 49, 43, 22, 31, 26, 47,\n",
              "       21, 22, 39, 15,  8,  6, 48, 21, 46, 20, 29,  9, 19, 17, 26, 18, 28,\n",
              "       18, 49, 36, 20, 21, 15, 18, 31, 37, 36, 10, 24,  2, 18, 35, 11, 27,\n",
              "       18, 13, 42, 38,  5, 47, 43, 37, 43,  1, 47,  3, 34, 25, 14, 22,  6,\n",
              "       43, 30, 11, 18, 16, 18, 31, 29,  9, 36, 15, 20, 30,  5, 21,  9,  2,\n",
              "        5, 25, 35, 30, 47,  8, 40,  8, 40, 24, 47, 35,  0,  5, 41, 31, 15,\n",
              "       25, 12,  5, 43, 21, 12, 18, 17,  0, 35, 19,  3, 29,  5, 11,  2, 33,\n",
              "       37,  3, 20, 18, 13,  2, 19,  5, 44, 26, 23, 29, 38, 21, 21, 33,  5,\n",
              "       29, 12, 37, 33, 35, 43, 12,  1,  7, 19, 21, 48, 47, 38, 22, 28,  1,\n",
              "       40,  1, 47, 21,  1, 21, 21, 10, 41, 12, 15, 43, 29])"
            ]
          },
          "metadata": {},
          "execution_count": 86
        }
      ]
    },
    {
      "cell_type": "code",
      "source": [
        "print(\"Row model has a a Score: \", row_model.score(train_row_entries, train_row_labels))\n",
        "print(\"Row model has a a Score: \", row_model.score(val_row_entries, val_row_labels))"
      ],
      "metadata": {
        "colab": {
          "base_uri": "https://localhost:8080/"
        },
        "id": "UJyd7QppqkLH",
        "outputId": "09ebc998-61cb-45fe-85c7-18b7c0f458ab"
      },
      "execution_count": null,
      "outputs": [
        {
          "output_type": "stream",
          "name": "stdout",
          "text": [
            "Row model has a a Score:  1.0\n",
            "Row model has a a Score:  1.0\n"
          ]
        }
      ]
    },
    {
      "cell_type": "markdown",
      "source": [
        "##For Columns"
      ],
      "metadata": {
        "id": "KK6sAyMI2bSY"
      }
    },
    {
      "cell_type": "code",
      "source": [
        "train_col_entries, val_col_entries, train_col_labels, val_col_labels = tts(col_feat, final_labels[:, 0], test_size = 0.2,shuffle=False)"
      ],
      "metadata": {
        "id": "1ye5mPGeqx0R"
      },
      "execution_count": null,
      "outputs": []
    },
    {
      "cell_type": "code",
      "source": [
        "from sklearn.linear_model import LinearRegression\n",
        "col_model = LinearRegression()\n",
        "col_model.fit(train_col_entries, train_col_labels)"
      ],
      "metadata": {
        "colab": {
          "base_uri": "https://localhost:8080/"
        },
        "outputId": "89c90684-7aca-4e87-bc71-7a0630417ac0",
        "id": "dPSa6RYCrCrS"
      },
      "execution_count": null,
      "outputs": [
        {
          "output_type": "execute_result",
          "data": {
            "text/plain": [
              "LinearRegression()"
            ]
          },
          "metadata": {},
          "execution_count": 89
        }
      ]
    },
    {
      "cell_type": "code",
      "source": [
        "train_col_labels.shape, train_col_entries.shape"
      ],
      "metadata": {
        "colab": {
          "base_uri": "https://localhost:8080/"
        },
        "id": "TXXrjJ_SrTGn",
        "outputId": "601b6da9-bf85-42c1-e267-c12b1e6b0b40"
      },
      "execution_count": null,
      "outputs": [
        {
          "output_type": "execute_result",
          "data": {
            "text/plain": [
              "((800,), (800, 1000))"
            ]
          },
          "metadata": {},
          "execution_count": 90
        }
      ]
    },
    {
      "cell_type": "code",
      "source": [
        "val_col_entries.shape, val_col_labels.shape"
      ],
      "metadata": {
        "colab": {
          "base_uri": "https://localhost:8080/"
        },
        "id": "1cB_Ikh1riEZ",
        "outputId": "7f0c8f02-4ab1-495f-d90a-85cf2d6c2b44"
      },
      "execution_count": null,
      "outputs": [
        {
          "output_type": "execute_result",
          "data": {
            "text/plain": [
              "((200, 1000), (200,))"
            ]
          },
          "metadata": {},
          "execution_count": 91
        }
      ]
    },
    {
      "cell_type": "code",
      "source": [
        "#Predict the response for test dataset\n",
        "y_pred_col = col_model.predict(val_col_entries)\n",
        "y_pred_col"
      ],
      "metadata": {
        "colab": {
          "base_uri": "https://localhost:8080/"
        },
        "outputId": "12aa87d2-d3d2-4608-f33a-72ff8900be30",
        "id": "3fL3nmyP8PBL"
      },
      "execution_count": null,
      "outputs": [
        {
          "output_type": "execute_result",
          "data": {
            "text/plain": [
              "array([ 1.04993803e+01,  4.83611987e+00,  9.00000000e+00,  1.64702201e+01,\n",
              "        2.00000000e+00,  2.54427142e+00,  7.00000000e+00,  2.00000000e+00,\n",
              "        8.40902954e+00,  7.00000000e+00, -4.96433984e-01,  1.80000000e+01,\n",
              "        9.47540176e+00,  2.07243156e+01,  1.49774466e+01,  2.00000000e+00,\n",
              "        6.00000000e+00,  9.62692407e+00,  7.10542736e-15,  4.23076089e+01,\n",
              "        3.00000000e+00,  1.10000000e+01,  1.50000000e+01,  6.00000000e+00,\n",
              "        1.00000000e+00,  1.00000000e+00,  1.50000000e+01,  4.00000000e+00,\n",
              "        1.50000000e+01,  1.40000000e+01,  1.80000000e+01,  1.30000000e+01,\n",
              "        1.50000000e+01,  8.00000000e+00,  1.20000000e+01,  1.04993803e+01,\n",
              "        1.44416515e+01,  2.50929742e+01,  1.77022369e+01,  3.00000000e+00,\n",
              "        1.38814014e+01,  5.00000000e+00,  4.65032116e+00,  1.30000000e+01,\n",
              "        7.00000000e+00,  1.04993803e+01,  1.04993803e+01,  1.01178990e+01,\n",
              "        1.20000000e+01,  1.25361327e+01,  1.04993803e+01,  5.00000000e+00,\n",
              "        2.23703742e+01,  1.95399252e-14,  1.10000000e+01,  2.25090912e+01,\n",
              "        4.09796141e+00,  6.00000000e+00,  6.00000000e+00,  1.04993803e+01,\n",
              "        1.87956937e+01,  8.00000000e+00,  1.85017479e+01,  1.80000000e+01,\n",
              "        1.50000000e+01,  6.17811244e+00,  6.00000000e+00,  2.06460224e+01,\n",
              "        1.00000000e+01,  5.00000000e+00,  1.04993803e+01,  1.00000000e+01,\n",
              "        1.40306614e+00,  5.00000000e+00,  1.32814447e+01,  7.00000000e+00,\n",
              "        4.00000000e+00,  1.22738665e+01,  7.00000000e+00,  1.10000000e+01,\n",
              "        1.10000000e+01,  1.30000000e+01,  9.63634518e+00,  4.00000000e+00,\n",
              "        6.00000000e+00,  2.00000000e+00,  1.06581410e-14,  1.70000000e+01,\n",
              "        1.04993803e+01,  9.08126857e+00,  1.00000000e+00,  4.00000000e+00,\n",
              "        1.00000000e+00,  1.70000000e+01,  2.00000000e+00,  1.04993803e+01,\n",
              "        4.00000000e+00,  1.50000000e+01,  8.48575611e+00,  1.00000000e+00,\n",
              "        6.00000000e+00,  3.00000000e+00,  1.04993803e+01,  8.00000000e+00,\n",
              "        9.83292481e+00,  1.10000000e+01,  9.90000640e+00,  1.32814447e+01,\n",
              "        1.58981765e+01,  3.00000000e+00,  1.30000000e+01,  1.04993803e+01,\n",
              "       -7.71475058e-01,  1.50000000e+01,  1.60000000e+01,  5.00000000e+00,\n",
              "        8.00000000e+00,  1.60000000e+01,  2.87711689e+01,  1.59872116e-14,\n",
              "        2.24516783e+01,  1.18766971e+01,  1.60000000e+01,  1.04993803e+01,\n",
              "       -8.88178420e-15,  1.04993803e+01,  2.25090912e+01,  6.00000000e+00,\n",
              "        1.30000000e+01,  1.04993803e+01,  1.09009642e+01,  7.00000000e+00,\n",
              "        1.87980256e+01,  1.04993803e+01,  8.00000000e+00,  1.60000000e+01,\n",
              "        4.83611987e+00,  1.60000000e+01,  1.47997396e+01,  1.04993803e+01,\n",
              "        2.00000000e+00,  8.00000000e+00,  6.35475005e+00,  1.25396887e+01,\n",
              "        1.00000000e+01,  1.90000000e+01,  9.93234825e+00,  5.32907052e-15,\n",
              "        5.49227143e+00, -3.74311477e+00,  1.00000000e+00,  1.30000000e+01,\n",
              "        1.11917862e+01,  1.04993803e+01,  3.00000000e+00,  1.87956937e+01,\n",
              "        4.00000000e+00,  3.59594764e-02,  2.51190574e+01,  9.81514377e+00,\n",
              "        7.00000000e+00,  1.04993803e+01,  1.60000000e+01,  1.77635684e-14,\n",
              "        1.13122306e+01,  1.04993803e+01,  5.00000000e+00,  1.00000000e+01,\n",
              "        1.11917862e+01,  1.72796544e+01,  1.82836615e+01,  1.50000000e+01,\n",
              "        1.60000000e+01,  8.00000000e+00,  1.90000000e+01,  1.04993803e+01,\n",
              "        1.24750311e+01, -2.39291192e+01,  7.00000000e+00,  1.40000000e+01,\n",
              "        1.70000000e+01,  1.04993803e+01,  1.80000000e+01,  1.04993803e+01,\n",
              "        3.00000000e+00,  4.00000000e+00,  3.00000000e+00,  4.00000000e+00,\n",
              "        9.47540176e+00,  1.20000000e+01,  3.00000000e+00,  3.00000000e+00,\n",
              "        5.00000000e+00,  5.00000000e+00,  1.50000000e+01,  2.00000000e+00,\n",
              "        2.21579985e+01,  1.50000000e+01,  1.80000000e+01,  1.41210347e+01])"
            ]
          },
          "metadata": {},
          "execution_count": 92
        }
      ]
    },
    {
      "cell_type": "code",
      "source": [
        "val_col_labels"
      ],
      "metadata": {
        "outputId": "1d01238d-51db-4b9b-ced2-be4cc0c3e37e",
        "colab": {
          "base_uri": "https://localhost:8080/"
        },
        "id": "UjdyMEM78PBM"
      },
      "execution_count": null,
      "outputs": [
        {
          "output_type": "execute_result",
          "data": {
            "text/plain": [
              "array([10,  9,  9,  5,  2, 12,  7,  2,  1,  7, 19, 18,  7,  6, 19,  2,  6,\n",
              "        8,  0, 17,  3, 11, 15,  6,  1,  1, 15,  4, 15, 14, 18, 13, 15,  8,\n",
              "       12,  0, 18,  1, 19,  3, 13,  5, 14, 13,  7, 10,  5,  9, 12,  1, 10,\n",
              "        5, 12,  0, 11, 13, 18,  6,  6, 17, 14,  8,  4, 18, 15,  4,  6, 17,\n",
              "       10,  5, 19, 10, 13,  5,  0,  7,  4,  7,  7, 11, 11, 13, 17,  4,  6,\n",
              "        2,  0, 17,  8,  9,  1,  4,  1, 17,  2,  5,  4, 15,  1,  1,  6,  3,\n",
              "        0,  8, 13, 11, 19,  0, 13,  3, 13, 15, 14, 15, 16,  5,  8, 16, 12,\n",
              "        0,  2,  2, 16,  2,  0, 16, 13,  6, 13,  0, 12,  7,  6,  8,  8, 16,\n",
              "        9, 16,  2,  2,  2,  8,  8, 14, 10, 19, 15,  0, 19, 11,  1, 13,  9,\n",
              "        2,  3, 14,  4,  9,  4, 10,  7,  7, 16,  0, 10, 10,  5, 10,  9, 18,\n",
              "        6, 15, 16,  8, 19, 10,  5,  5,  7, 14, 17,  5, 18,  4,  3,  4,  3,\n",
              "        4,  7, 12,  3,  3,  5,  5, 15,  2, 11, 15, 18,  2])"
            ]
          },
          "metadata": {},
          "execution_count": 93
        }
      ]
    },
    {
      "cell_type": "code",
      "source": [
        "print(\"Col model has a a Score: \", col_model.score(train_col_entries, train_col_labels))\n",
        "print(\"Col model has a a Score: \", col_model.score(val_col_entries, val_col_labels))"
      ],
      "metadata": {
        "colab": {
          "base_uri": "https://localhost:8080/"
        },
        "outputId": "fcfda04f-1a29-4658-9dfd-402703dc8c56",
        "id": "Rqc_OzTSrCrS"
      },
      "execution_count": null,
      "outputs": [
        {
          "output_type": "stream",
          "name": "stdout",
          "text": [
            "Col model has a a Score:  1.0\n",
            "Col model has a a Score:  -0.2938062486755355\n"
          ]
        }
      ]
    },
    {
      "cell_type": "markdown",
      "source": [
        "# Random Forest"
      ],
      "metadata": {
        "id": "4oid6z_vso9e"
      }
    },
    {
      "cell_type": "markdown",
      "source": [
        "## For Row"
      ],
      "metadata": {
        "id": "29em4J692um5"
      }
    },
    {
      "cell_type": "code",
      "source": [
        "from sklearn.ensemble import RandomForestClassifier\n",
        "row_model = RandomForestClassifier()\n",
        "row_model.fit(train_row_entries, train_row_labels)"
      ],
      "metadata": {
        "colab": {
          "base_uri": "https://localhost:8080/"
        },
        "outputId": "0415f6d7-039d-49a6-bac2-5189ef6365f6",
        "id": "Akj7j1SYsn3u"
      },
      "execution_count": null,
      "outputs": [
        {
          "output_type": "execute_result",
          "data": {
            "text/plain": [
              "RandomForestClassifier()"
            ]
          },
          "metadata": {},
          "execution_count": 95
        }
      ]
    },
    {
      "cell_type": "code",
      "source": [
        "#Predict the response for test dataset\n",
        "y_pred_row = row_model.predict(val_row_entries)\n",
        "y_pred_row"
      ],
      "metadata": {
        "colab": {
          "base_uri": "https://localhost:8080/"
        },
        "id": "rQw2JNvb7d5B",
        "outputId": "74496bc6-dc48-4e62-88af-a1a100ca6a8c"
      },
      "execution_count": null,
      "outputs": [
        {
          "output_type": "execute_result",
          "data": {
            "text/plain": [
              "array([45, 25,  0, 33, 14,  7, 46, 22, 10, 31,  5, 21,  1,  8, 26, 39, 16,\n",
              "        5, 14,  3, 48, 11, 32, 47,  2, 46, 21, 47, 18, 26,  9, 24, 22, 43,\n",
              "        3, 47, 26,  0, 11,  5, 16, 11, 23,  0, 31, 49, 43, 22, 31, 26, 47,\n",
              "       21, 22, 39, 15,  8,  6, 48, 21, 46, 20, 29,  9, 19, 17, 26, 18, 28,\n",
              "       18, 49, 36, 20, 21, 15, 18, 31, 37, 36, 10, 24,  2, 18, 35, 11, 27,\n",
              "       18, 13, 42, 38,  5, 47, 43, 37, 43,  1, 47,  3, 34, 25, 14, 22,  6,\n",
              "       43, 30, 11, 18, 16, 18, 31, 29,  9, 36, 15, 20, 30,  5, 21,  9,  2,\n",
              "        5, 25, 35, 30, 47,  8, 40,  8, 40, 24, 47, 35,  0,  5, 41, 31, 15,\n",
              "       25, 12,  5, 43, 21, 12, 18, 17,  0, 35, 19,  3, 29,  5, 11,  2, 33,\n",
              "       37,  3, 20, 18, 13,  2, 19,  5, 44, 26, 23, 29, 38, 21, 21, 33,  5,\n",
              "       29, 12, 37, 33, 35, 43, 12,  1,  7, 19, 21, 48, 47, 38, 22, 28,  1,\n",
              "       40,  1, 47, 21,  1, 21, 21, 10, 41, 12, 15, 43, 29])"
            ]
          },
          "metadata": {},
          "execution_count": 96
        }
      ]
    },
    {
      "cell_type": "code",
      "source": [
        "val_row_labels"
      ],
      "metadata": {
        "colab": {
          "base_uri": "https://localhost:8080/"
        },
        "id": "xyqxzeQ_7jp_",
        "outputId": "3605f9e0-144e-4428-d960-777dd82cd3c2"
      },
      "execution_count": null,
      "outputs": [
        {
          "output_type": "execute_result",
          "data": {
            "text/plain": [
              "array([45, 25,  0, 33, 14,  7, 46, 22, 10, 31,  5, 21,  1,  8, 26, 39, 16,\n",
              "        5, 14,  3, 48, 11, 32, 47,  2, 46, 21, 47, 18, 26,  9, 24, 22, 43,\n",
              "        3, 47, 26,  0, 11,  5, 16, 11, 23,  0, 31, 49, 43, 22, 31, 26, 47,\n",
              "       21, 22, 39, 15,  8,  6, 48, 21, 46, 20, 29,  9, 19, 17, 26, 18, 28,\n",
              "       18, 49, 36, 20, 21, 15, 18, 31, 37, 36, 10, 24,  2, 18, 35, 11, 27,\n",
              "       18, 13, 42, 38,  5, 47, 43, 37, 43,  1, 47,  3, 34, 25, 14, 22,  6,\n",
              "       43, 30, 11, 18, 16, 18, 31, 29,  9, 36, 15, 20, 30,  5, 21,  9,  2,\n",
              "        5, 25, 35, 30, 47,  8, 40,  8, 40, 24, 47, 35,  0,  5, 41, 31, 15,\n",
              "       25, 12,  5, 43, 21, 12, 18, 17,  0, 35, 19,  3, 29,  5, 11,  2, 33,\n",
              "       37,  3, 20, 18, 13,  2, 19,  5, 44, 26, 23, 29, 38, 21, 21, 33,  5,\n",
              "       29, 12, 37, 33, 35, 43, 12,  1,  7, 19, 21, 48, 47, 38, 22, 28,  1,\n",
              "       40,  1, 47, 21,  1, 21, 21, 10, 41, 12, 15, 43, 29])"
            ]
          },
          "metadata": {},
          "execution_count": 97
        }
      ]
    },
    {
      "cell_type": "code",
      "source": [
        "print(\"Row model has a a Score: \", row_model.score(train_row_entries, train_row_labels))\n",
        "print(\"Row model has a a Score: \", row_model.score(val_row_entries, val_row_labels))"
      ],
      "metadata": {
        "colab": {
          "base_uri": "https://localhost:8080/"
        },
        "outputId": "d7f992e7-c15a-4373-9068-9bba63a3b8a6",
        "id": "6Dsb2-xysn3v"
      },
      "execution_count": null,
      "outputs": [
        {
          "output_type": "stream",
          "name": "stdout",
          "text": [
            "Row model has a a Score:  1.0\n",
            "Row model has a a Score:  1.0\n"
          ]
        }
      ]
    },
    {
      "cell_type": "markdown",
      "source": [
        "## For Columns"
      ],
      "metadata": {
        "id": "23NCEI5X2xpZ"
      }
    },
    {
      "cell_type": "code",
      "source": [
        "col_model = RandomForestClassifier()\n",
        "col_model.fit(train_col_entries, train_col_labels)"
      ],
      "metadata": {
        "colab": {
          "base_uri": "https://localhost:8080/"
        },
        "outputId": "062035e5-e8ed-4a37-8a3a-009b352c05d6",
        "id": "qFqIZ_tZsX4L"
      },
      "execution_count": null,
      "outputs": [
        {
          "output_type": "execute_result",
          "data": {
            "text/plain": [
              "RandomForestClassifier()"
            ]
          },
          "metadata": {},
          "execution_count": 99
        }
      ]
    },
    {
      "cell_type": "code",
      "source": [
        "#Predict the response for test dataset\n",
        "y_pred_col = col_model.predict(val_col_entries)\n",
        "y_pred_col"
      ],
      "metadata": {
        "colab": {
          "base_uri": "https://localhost:8080/"
        },
        "outputId": "30e4f257-10a2-4cf9-b96e-09ace0f183dc",
        "id": "iZvyhzRE76-y"
      },
      "execution_count": null,
      "outputs": [
        {
          "output_type": "execute_result",
          "data": {
            "text/plain": [
              "array([ 0,  0,  9,  0,  2,  0,  7,  2,  0,  7,  0, 18,  0,  0,  0,  2,  6,\n",
              "        0,  0,  0,  3, 11, 15,  6,  1,  1, 15,  4, 15, 14, 18, 13, 15,  8,\n",
              "       12,  0,  0,  0,  0,  3,  0,  5,  0, 13,  7,  0,  0,  0, 12,  0,  0,\n",
              "        5,  0,  0, 11,  0,  0,  6,  6,  0,  0,  8,  0, 18, 15,  0,  6,  0,\n",
              "       10,  5,  0, 10,  0,  5,  0,  7,  4,  0,  7, 11, 11, 13,  0,  4,  6,\n",
              "        2,  0, 17,  0,  0,  1,  4,  1, 17,  2,  0,  4, 15,  0,  1,  6,  3,\n",
              "        0,  8,  0, 11,  0,  0,  0,  3, 13,  0,  0, 15, 16,  5,  8, 16,  0,\n",
              "        0,  0,  0, 16,  0,  0,  0,  0,  6, 13,  0,  0,  7,  0,  0,  8, 16,\n",
              "        0, 16,  0,  0,  2,  8,  0,  0, 10, 19,  0,  0,  0,  0,  1, 13,  0,\n",
              "        0,  3,  0,  4,  0,  0,  0,  7,  0, 16,  0,  0,  0,  5, 10,  0,  0,\n",
              "        0, 15, 16,  8, 19,  0,  0,  0,  7, 14, 17,  0, 18,  0,  3,  4,  3,\n",
              "        4,  0, 12,  3,  3,  5,  5, 15,  2,  0, 15, 18,  0])"
            ]
          },
          "metadata": {},
          "execution_count": 100
        }
      ]
    },
    {
      "cell_type": "code",
      "source": [
        "val_col_labels"
      ],
      "metadata": {
        "outputId": "904de64c-46ba-4415-bf64-47c892bce25f",
        "colab": {
          "base_uri": "https://localhost:8080/"
        },
        "id": "eVSrvxj376-y"
      },
      "execution_count": null,
      "outputs": [
        {
          "output_type": "execute_result",
          "data": {
            "text/plain": [
              "array([10,  9,  9,  5,  2, 12,  7,  2,  1,  7, 19, 18,  7,  6, 19,  2,  6,\n",
              "        8,  0, 17,  3, 11, 15,  6,  1,  1, 15,  4, 15, 14, 18, 13, 15,  8,\n",
              "       12,  0, 18,  1, 19,  3, 13,  5, 14, 13,  7, 10,  5,  9, 12,  1, 10,\n",
              "        5, 12,  0, 11, 13, 18,  6,  6, 17, 14,  8,  4, 18, 15,  4,  6, 17,\n",
              "       10,  5, 19, 10, 13,  5,  0,  7,  4,  7,  7, 11, 11, 13, 17,  4,  6,\n",
              "        2,  0, 17,  8,  9,  1,  4,  1, 17,  2,  5,  4, 15,  1,  1,  6,  3,\n",
              "        0,  8, 13, 11, 19,  0, 13,  3, 13, 15, 14, 15, 16,  5,  8, 16, 12,\n",
              "        0,  2,  2, 16,  2,  0, 16, 13,  6, 13,  0, 12,  7,  6,  8,  8, 16,\n",
              "        9, 16,  2,  2,  2,  8,  8, 14, 10, 19, 15,  0, 19, 11,  1, 13,  9,\n",
              "        2,  3, 14,  4,  9,  4, 10,  7,  7, 16,  0, 10, 10,  5, 10,  9, 18,\n",
              "        6, 15, 16,  8, 19, 10,  5,  5,  7, 14, 17,  5, 18,  4,  3,  4,  3,\n",
              "        4,  7, 12,  3,  3,  5,  5, 15,  2, 11, 15, 18,  2])"
            ]
          },
          "metadata": {},
          "execution_count": 101
        }
      ]
    },
    {
      "cell_type": "code",
      "source": [
        "print(\"Col model has a a Score: \", col_model.score(train_col_entries, train_col_labels))\n",
        "print(\"Col model has a a Score: \", col_model.score(val_col_entries, val_col_labels))"
      ],
      "metadata": {
        "colab": {
          "base_uri": "https://localhost:8080/"
        },
        "outputId": "80ba990a-a876-47fc-d06d-ed2d5d1a288b",
        "id": "wkhbhljgsX4M"
      },
      "execution_count": null,
      "outputs": [
        {
          "output_type": "stream",
          "name": "stdout",
          "text": [
            "Col model has a a Score:  1.0\n",
            "Col model has a a Score:  0.605\n"
          ]
        }
      ]
    },
    {
      "cell_type": "code",
      "source": [
        "train_rows = train_labels[:, 1]\n",
        "train_cols = train_labels[:, 0]"
      ],
      "metadata": {
        "id": "DEesyh0B7YfQ"
      },
      "execution_count": null,
      "outputs": []
    },
    {
      "cell_type": "code",
      "source": [
        "val_rows = val_labels[:, 1]\n",
        "val_cols = val_labels[:, 0]"
      ],
      "metadata": {
        "id": "fbSOVsAY81Dy"
      },
      "execution_count": null,
      "outputs": []
    },
    {
      "cell_type": "markdown",
      "source": [
        "# SVM"
      ],
      "metadata": {
        "id": "vmcXdPP24QJ4"
      }
    },
    {
      "cell_type": "markdown",
      "source": [
        "## For Row"
      ],
      "metadata": {
        "id": "yruyLTy7_hLV"
      }
    },
    {
      "cell_type": "code",
      "source": [
        "from sklearn import svm\n",
        "\n",
        "#Create a svm Classifier\n",
        "row_model = svm.SVC(kernel='linear') # Linear Kernel\n",
        "\n",
        "#Train the model using the training sets For Row\n",
        "row_model.fit(train_row_entries, train_row_labels)\n",
        "\n",
        "#Predict the response for test dataset\n",
        "y_pred_row = row_model.predict(val_row_entries)\n",
        "y_pred_row"
      ],
      "metadata": {
        "colab": {
          "base_uri": "https://localhost:8080/"
        },
        "id": "j2Cz35ruMd1Z",
        "outputId": "01cc17e8-4532-4732-c951-1a7b0db91313"
      },
      "execution_count": null,
      "outputs": [
        {
          "output_type": "execute_result",
          "data": {
            "text/plain": [
              "array([45, 25,  0, 33, 14,  7, 46, 22, 10, 31,  5, 21,  1,  8, 26, 39, 16,\n",
              "        5, 14,  3, 48, 11, 32, 47,  2, 46, 21, 47, 18, 26,  9, 24, 22, 43,\n",
              "        3, 47, 26,  0, 11,  5, 16, 11, 23,  0, 31, 49, 43, 22, 31, 26, 47,\n",
              "       21, 22, 39, 15,  8,  6, 48, 21, 46, 20, 29,  9, 19, 17, 26, 18, 28,\n",
              "       18, 49, 36, 20, 21, 15, 18, 31, 37, 36, 10, 24,  2, 18, 35, 11, 27,\n",
              "       18, 13, 42, 38,  5, 47, 43, 37, 43,  1, 47,  3, 34, 25, 14, 22,  6,\n",
              "       43, 30, 11, 18, 16, 18, 31, 29,  9, 36, 15, 20, 30,  5, 21,  9,  2,\n",
              "        5, 25, 35, 30, 47,  8, 40,  8, 40, 24, 47, 35,  0,  5, 41, 31, 15,\n",
              "       25, 12,  5, 43, 21, 12, 18, 17,  0, 35, 19,  3, 29,  5, 11,  2, 33,\n",
              "       37,  3, 20, 18, 13,  2, 19,  5, 44, 26, 23, 29, 38, 21, 21, 33,  5,\n",
              "       29, 12, 37, 33, 35, 43, 12,  1,  7, 19, 21, 48, 47, 38, 22, 28,  1,\n",
              "       40,  1, 47, 21,  1, 21, 21, 10, 41, 12, 15, 43, 29])"
            ]
          },
          "metadata": {},
          "execution_count": 105
        }
      ]
    },
    {
      "cell_type": "code",
      "source": [
        "val_row_labels"
      ],
      "metadata": {
        "colab": {
          "base_uri": "https://localhost:8080/"
        },
        "id": "kGGWHlbh5dNC",
        "outputId": "5691b476-ae22-4366-db65-09eecac71307"
      },
      "execution_count": null,
      "outputs": [
        {
          "output_type": "execute_result",
          "data": {
            "text/plain": [
              "array([45, 25,  0, 33, 14,  7, 46, 22, 10, 31,  5, 21,  1,  8, 26, 39, 16,\n",
              "        5, 14,  3, 48, 11, 32, 47,  2, 46, 21, 47, 18, 26,  9, 24, 22, 43,\n",
              "        3, 47, 26,  0, 11,  5, 16, 11, 23,  0, 31, 49, 43, 22, 31, 26, 47,\n",
              "       21, 22, 39, 15,  8,  6, 48, 21, 46, 20, 29,  9, 19, 17, 26, 18, 28,\n",
              "       18, 49, 36, 20, 21, 15, 18, 31, 37, 36, 10, 24,  2, 18, 35, 11, 27,\n",
              "       18, 13, 42, 38,  5, 47, 43, 37, 43,  1, 47,  3, 34, 25, 14, 22,  6,\n",
              "       43, 30, 11, 18, 16, 18, 31, 29,  9, 36, 15, 20, 30,  5, 21,  9,  2,\n",
              "        5, 25, 35, 30, 47,  8, 40,  8, 40, 24, 47, 35,  0,  5, 41, 31, 15,\n",
              "       25, 12,  5, 43, 21, 12, 18, 17,  0, 35, 19,  3, 29,  5, 11,  2, 33,\n",
              "       37,  3, 20, 18, 13,  2, 19,  5, 44, 26, 23, 29, 38, 21, 21, 33,  5,\n",
              "       29, 12, 37, 33, 35, 43, 12,  1,  7, 19, 21, 48, 47, 38, 22, 28,  1,\n",
              "       40,  1, 47, 21,  1, 21, 21, 10, 41, 12, 15, 43, 29])"
            ]
          },
          "metadata": {},
          "execution_count": 106
        }
      ]
    },
    {
      "cell_type": "code",
      "source": [
        "print(\"Row model has a a Score: \", row_model.score(train_row_entries, train_row_labels))\n",
        "print(\"Row model has a a Score: \", row_model.score(val_row_entries, val_row_labels))"
      ],
      "metadata": {
        "colab": {
          "base_uri": "https://localhost:8080/"
        },
        "id": "m1pHRrM_M3v4",
        "outputId": "3993b90e-29bc-4036-e3e3-d21270713127"
      },
      "execution_count": null,
      "outputs": [
        {
          "output_type": "stream",
          "name": "stdout",
          "text": [
            "Row model has a a Score:  1.0\n",
            "Row model has a a Score:  1.0\n"
          ]
        }
      ]
    },
    {
      "cell_type": "markdown",
      "source": [
        "## For columns"
      ],
      "metadata": {
        "id": "TL9ZzZ9O500y"
      }
    },
    {
      "cell_type": "code",
      "source": [
        "from sklearn import svm\n",
        "\n",
        "#Create a svm Classifier\n",
        "col_model = svm.SVC(kernel='linear') # Linear Kernel\n",
        "\n",
        "#Train the model using the training sets For col\n",
        "col_model.fit(train_col_entries, train_col_labels)\n",
        "\n",
        "#Predict the response for test dataset\n",
        "y_pred_col = col_model.predict(val_col_entries)\n",
        "y_pred_col"
      ],
      "metadata": {
        "colab": {
          "base_uri": "https://localhost:8080/"
        },
        "outputId": "cacaf556-0ed0-42b3-e2fe-633bb89ae41f",
        "id": "9xXzQ7ZN88yY"
      },
      "execution_count": null,
      "outputs": [
        {
          "output_type": "execute_result",
          "data": {
            "text/plain": [
              "array([16, 16,  9, 16,  2, 16,  7,  2, 16,  7, 16, 18, 16, 16, 16,  2,  6,\n",
              "       16,  0, 16,  3, 11, 15,  6,  1,  1, 15,  4, 15, 14, 18, 13, 15,  8,\n",
              "       12, 16, 16, 16, 16,  3, 16,  5, 16, 13,  7, 16, 16, 16, 12, 16, 16,\n",
              "        5, 16,  0, 11, 16, 16,  6,  6, 16, 16,  8, 16, 18, 15, 16,  6, 16,\n",
              "       10,  5, 16, 10, 16,  5, 16,  7,  4, 16,  7, 11, 11, 13, 16,  4,  6,\n",
              "        2,  0, 17, 16, 16,  1,  4,  1, 17,  2, 16,  4, 15, 16,  1,  6,  3,\n",
              "       16,  8, 16, 11, 16, 16, 16,  3, 13, 16, 16, 15, 16,  5,  8, 16, 16,\n",
              "        0, 16, 16, 16, 16,  0, 16, 16,  6, 13, 16, 16,  7, 16, 16,  8, 16,\n",
              "       16, 16, 16, 16,  2,  8, 16, 16, 10, 19, 16,  0, 16, 16,  1, 13, 16,\n",
              "       16,  3, 16,  4, 16, 16, 16,  7, 16, 16,  0, 16, 16,  5, 10, 16, 16,\n",
              "       16, 15, 16,  8, 19, 16, 16, 16,  7, 14, 17, 16, 18, 16,  3,  4,  3,\n",
              "        4, 16, 12,  3,  3,  5,  5, 15,  2, 16, 15, 18, 16])"
            ]
          },
          "metadata": {},
          "execution_count": 108
        }
      ]
    },
    {
      "cell_type": "code",
      "source": [
        "val_col_labels"
      ],
      "metadata": {
        "colab": {
          "base_uri": "https://localhost:8080/"
        },
        "outputId": "54ba212c-5038-4365-eea2-68d232845e04",
        "id": "XCM3W9xO88yv"
      },
      "execution_count": null,
      "outputs": [
        {
          "output_type": "execute_result",
          "data": {
            "text/plain": [
              "array([10,  9,  9,  5,  2, 12,  7,  2,  1,  7, 19, 18,  7,  6, 19,  2,  6,\n",
              "        8,  0, 17,  3, 11, 15,  6,  1,  1, 15,  4, 15, 14, 18, 13, 15,  8,\n",
              "       12,  0, 18,  1, 19,  3, 13,  5, 14, 13,  7, 10,  5,  9, 12,  1, 10,\n",
              "        5, 12,  0, 11, 13, 18,  6,  6, 17, 14,  8,  4, 18, 15,  4,  6, 17,\n",
              "       10,  5, 19, 10, 13,  5,  0,  7,  4,  7,  7, 11, 11, 13, 17,  4,  6,\n",
              "        2,  0, 17,  8,  9,  1,  4,  1, 17,  2,  5,  4, 15,  1,  1,  6,  3,\n",
              "        0,  8, 13, 11, 19,  0, 13,  3, 13, 15, 14, 15, 16,  5,  8, 16, 12,\n",
              "        0,  2,  2, 16,  2,  0, 16, 13,  6, 13,  0, 12,  7,  6,  8,  8, 16,\n",
              "        9, 16,  2,  2,  2,  8,  8, 14, 10, 19, 15,  0, 19, 11,  1, 13,  9,\n",
              "        2,  3, 14,  4,  9,  4, 10,  7,  7, 16,  0, 10, 10,  5, 10,  9, 18,\n",
              "        6, 15, 16,  8, 19, 10,  5,  5,  7, 14, 17,  5, 18,  4,  3,  4,  3,\n",
              "        4,  7, 12,  3,  3,  5,  5, 15,  2, 11, 15, 18,  2])"
            ]
          },
          "metadata": {},
          "execution_count": 109
        }
      ]
    },
    {
      "cell_type": "code",
      "source": [
        "print(\"col model has a a Score: \", col_model.score(train_col_entries, train_col_labels))\n",
        "print(\"col model has a a Score: \", col_model.score(val_col_entries, val_col_labels))"
      ],
      "metadata": {
        "colab": {
          "base_uri": "https://localhost:8080/"
        },
        "outputId": "0180833c-b270-439d-ddd8-ebd1bdbd5101",
        "id": "lS9TTrzj88yw"
      },
      "execution_count": null,
      "outputs": [
        {
          "output_type": "stream",
          "name": "stdout",
          "text": [
            "col model has a a Score:  1.0\n",
            "col model has a a Score:  0.585\n"
          ]
        }
      ]
    },
    {
      "cell_type": "markdown",
      "source": [
        "# KNN"
      ],
      "metadata": {
        "id": "kGGAOXmNMAI0"
      }
    },
    {
      "cell_type": "markdown",
      "source": [
        "## For Row"
      ],
      "metadata": {
        "id": "sPYW9dleMCqW"
      }
    },
    {
      "cell_type": "code",
      "source": [
        "from sklearn.neighbors import KNeighborsClassifier\n",
        "\n",
        "row_model = KNeighborsClassifier(n_neighbors=1)\n",
        "\n",
        "# Train the model using the training sets\n",
        "row_model.fit(train_row_entries, train_row_labels)\n",
        "\n",
        "#Predict Output\n",
        "predicted= row_model.predict(val_row_entries) \n",
        "print(predicted)"
      ],
      "metadata": {
        "colab": {
          "base_uri": "https://localhost:8080/"
        },
        "id": "V8kH16VpK2Bk",
        "outputId": "37756776-5dcc-4eda-81c7-7a58b1f3e997"
      },
      "execution_count": null,
      "outputs": [
        {
          "output_type": "stream",
          "name": "stdout",
          "text": [
            "[45 25  0 33 14  7 46 22 10 31  5 21  1  8 26 39 16  5 14  3 48 11 32 47\n",
            "  2 46 21 47 18 26  9 24 22 43  3 47 26  0 11  5 16 11 23  0 31 49 43 22\n",
            " 31 26 47 21 22 39 15  8  6 48 21 46 20 29  9 19 17 26 18 28 18 49 36 20\n",
            " 21 15 18 31 37 36 10 24  2 18 35 11 27 18 13 42 38  5 47 43 37 43  1 47\n",
            "  3 34 25 14 22  6 43 30 11 18 16 18 31 29  9 36 15 20 30  5 21  9  2  5\n",
            " 25 35 30 47  8 40  8 40 24 47 35  0  5 41 31 15 25 12  5 43 21 12 18 17\n",
            "  0 35 19  3 29  5 11  2 33 37  3 20 18 13  2 19  5 44 26 23 29 38 21 21\n",
            " 33  5 29 12 37 33 35 43 12  1  7 19 21 48 47 38 22 28  1 40  1 47 21  1\n",
            " 21 21 10 41 12 15 43 29]\n"
          ]
        }
      ]
    },
    {
      "cell_type": "code",
      "source": [
        "print(\"Row model has a a Score: \", row_model.score(train_row_entries, train_row_labels))\n",
        "print(\"Row model has a a Score: \", row_model.score(val_row_entries, val_row_labels))"
      ],
      "metadata": {
        "colab": {
          "base_uri": "https://localhost:8080/"
        },
        "id": "s6e_GTzKMpZJ",
        "outputId": "9882c145-3e86-4243-a1dc-2a9483dcbc0e"
      },
      "execution_count": null,
      "outputs": [
        {
          "output_type": "stream",
          "name": "stdout",
          "text": [
            "Row model has a a Score:  1.0\n",
            "Row model has a a Score:  1.0\n"
          ]
        }
      ]
    },
    {
      "cell_type": "markdown",
      "source": [
        "## For Columns"
      ],
      "metadata": {
        "id": "lS9LtjnlNE5V"
      }
    },
    {
      "cell_type": "code",
      "source": [
        "from sklearn.neighbors import KNeighborsClassifier\n",
        "\n",
        "col_model = KNeighborsClassifier(n_neighbors=1)\n",
        "\n",
        "# Train the model using the training sets\n",
        "col_model.fit(train_col_entries, train_col_labels)\n",
        "\n",
        "#Predict Output\n",
        "predicted= col_model.predict(val_col_entries) \n",
        "print(predicted)"
      ],
      "metadata": {
        "colab": {
          "base_uri": "https://localhost:8080/"
        },
        "outputId": "8fe05640-3af5-45cb-e552-d6711cf0a91a",
        "id": "EGWJ9WCmNJGg"
      },
      "execution_count": null,
      "outputs": [
        {
          "output_type": "stream",
          "name": "stdout",
          "text": [
            "[ 7  7  9  7  2  7  7  2  7  7  7 18  7  7  7  2  6  7  0  7  3 11 15  6\n",
            "  1  1 15  4 15 14 18 13 15  8 12  7  7  7  7  3  7  5  7 13  7  7  7  7\n",
            " 12  7  7  5  7  0 11  7  7  6  6  7  7  8  7 18 15  7  6  7 10  5  7 10\n",
            "  7  5  7  7  4  7  7 11 11 13  7  4  6  2  0 17  7  7  1  4  1 17  2  7\n",
            "  4 15  7  1  6  3  7  8  7 11  7  7  7  3 13  7  7 15 16  5  8 16  7  0\n",
            "  7  7 16  7  0  7  7  6 13  7  7  7  7  7  8 16  7 16  7  7  2  8  7  7\n",
            " 10 19  7  0  7  7  1 13  7  7  3  7  4  7  7  7  7  7 16  0  7  7  5 10\n",
            "  7  7  7 15 16  8 19  7  7  7  7 14 17  7 18  7  3  4  3  4  7 12  3  3\n",
            "  5  5 15  2  7 15 18  7]\n"
          ]
        }
      ]
    },
    {
      "cell_type": "code",
      "source": [
        "print(\"Col model has a a Score: \", col_model.score(train_col_entries, train_col_labels))\n",
        "print(\"Col model has a a Score: \", col_model.score(val_col_entries, val_col_labels))"
      ],
      "metadata": {
        "colab": {
          "base_uri": "https://localhost:8080/"
        },
        "outputId": "cdbf3bc9-200e-4b32-fa28-db8e36602a8c",
        "id": "zfA9_3poNJGg"
      },
      "execution_count": null,
      "outputs": [
        {
          "output_type": "stream",
          "name": "stdout",
          "text": [
            "Col model has a a Score:  1.0\n",
            "Col model has a a Score:  0.6\n"
          ]
        }
      ]
    },
    {
      "cell_type": "markdown",
      "source": [
        "#ANN and CNN"
      ],
      "metadata": {
        "id": "AbcHFUgW_n1p"
      }
    },
    {
      "cell_type": "markdown",
      "source": [
        "## For Row"
      ],
      "metadata": {
        "id": "u6Q8nw4-_wWx"
      }
    },
    {
      "cell_type": "code",
      "source": [
        "import tensorflow as tf\n",
        "from tensorflow.keras import datasets, layers, models\n",
        "import matplotlib.pyplot as plt\n",
        "import numpy as np"
      ],
      "metadata": {
        "id": "US_K-48SwHo2"
      },
      "execution_count": null,
      "outputs": []
    },
    {
      "cell_type": "code",
      "source": [
        "#ann\n",
        "row_model_ann = models.Sequential([\n",
        "        layers.Dense(500, activation='relu'),\n",
        "        layers.Dense(200, activation='relu'),\n",
        "        layers.Dense(sz//rlen, activation='softmax')    \n",
        "    ])\n",
        "\n",
        "row_model_ann.compile(optimizer='adam',\n",
        "              loss='sparse_categorical_crossentropy',\n",
        "              metrics=['accuracy'])\n",
        "\n",
        "row_model_ann.fit(train_row_entries, train_row_labels, epochs=20)"
      ],
      "metadata": {
        "colab": {
          "base_uri": "https://localhost:8080/"
        },
        "id": "W-B-tqEZwNsk",
        "outputId": "c75c8bc4-e454-47ab-c6d4-524bf9fd98d2"
      },
      "execution_count": null,
      "outputs": [
        {
          "output_type": "stream",
          "name": "stdout",
          "text": [
            "Epoch 1/20\n",
            "25/25 [==============================] - 0s 3ms/step - loss: 3.6624 - accuracy: 0.6450\n",
            "Epoch 2/20\n",
            "25/25 [==============================] - 0s 3ms/step - loss: 2.6746 - accuracy: 0.9875\n",
            "Epoch 3/20\n",
            "25/25 [==============================] - 0s 3ms/step - loss: 1.0599 - accuracy: 0.9950\n",
            "Epoch 4/20\n",
            "25/25 [==============================] - 0s 3ms/step - loss: 0.1687 - accuracy: 1.0000\n",
            "Epoch 5/20\n",
            "25/25 [==============================] - 0s 3ms/step - loss: 0.0381 - accuracy: 1.0000\n",
            "Epoch 6/20\n",
            "25/25 [==============================] - 0s 4ms/step - loss: 0.0195 - accuracy: 1.0000\n",
            "Epoch 7/20\n",
            "25/25 [==============================] - 0s 3ms/step - loss: 0.0133 - accuracy: 1.0000\n",
            "Epoch 8/20\n",
            "25/25 [==============================] - 0s 4ms/step - loss: 0.0099 - accuracy: 1.0000\n",
            "Epoch 9/20\n",
            "25/25 [==============================] - 0s 3ms/step - loss: 0.0078 - accuracy: 1.0000\n",
            "Epoch 10/20\n",
            "25/25 [==============================] - 0s 3ms/step - loss: 0.0063 - accuracy: 1.0000\n",
            "Epoch 11/20\n",
            "25/25 [==============================] - 0s 3ms/step - loss: 0.0053 - accuracy: 1.0000\n",
            "Epoch 12/20\n",
            "25/25 [==============================] - 0s 3ms/step - loss: 0.0045 - accuracy: 1.0000\n",
            "Epoch 13/20\n",
            "25/25 [==============================] - 0s 3ms/step - loss: 0.0038 - accuracy: 1.0000\n",
            "Epoch 14/20\n",
            "25/25 [==============================] - 0s 3ms/step - loss: 0.0033 - accuracy: 1.0000\n",
            "Epoch 15/20\n",
            "25/25 [==============================] - 0s 3ms/step - loss: 0.0029 - accuracy: 1.0000\n",
            "Epoch 16/20\n",
            "25/25 [==============================] - 0s 3ms/step - loss: 0.0026 - accuracy: 1.0000\n",
            "Epoch 17/20\n",
            "25/25 [==============================] - 0s 3ms/step - loss: 0.0023 - accuracy: 1.0000\n",
            "Epoch 18/20\n",
            "25/25 [==============================] - 0s 3ms/step - loss: 0.0021 - accuracy: 1.0000\n",
            "Epoch 19/20\n",
            "25/25 [==============================] - 0s 3ms/step - loss: 0.0019 - accuracy: 1.0000\n",
            "Epoch 20/20\n",
            "25/25 [==============================] - 0s 3ms/step - loss: 0.0017 - accuracy: 1.0000\n"
          ]
        },
        {
          "output_type": "execute_result",
          "data": {
            "text/plain": [
              "<keras.callbacks.History at 0x7f8246b12310>"
            ]
          },
          "metadata": {},
          "execution_count": 116
        }
      ]
    },
    {
      "cell_type": "code",
      "source": [
        "row_model_ann.evaluate(val_row_entries, val_row_labels)"
      ],
      "metadata": {
        "colab": {
          "base_uri": "https://localhost:8080/"
        },
        "id": "tmLtsVXQx1Ej",
        "outputId": "396a2df5-f4bc-4a3c-c33c-c20cace5dede"
      },
      "execution_count": null,
      "outputs": [
        {
          "output_type": "stream",
          "name": "stdout",
          "text": [
            "7/7 [==============================] - 0s 2ms/step - loss: 0.0017 - accuracy: 1.0000\n"
          ]
        },
        {
          "output_type": "execute_result",
          "data": {
            "text/plain": [
              "[0.0016727496404200792, 1.0]"
            ]
          },
          "metadata": {},
          "execution_count": 117
        }
      ]
    },
    {
      "cell_type": "code",
      "source": [
        "print(\"Row model has a a Score: \", row_model_ann.evaluate(train_row_entries, train_row_labels))\n",
        "print(\"Row model has a a Score: \", row_model_ann.evaluate(val_row_entries, val_row_labels))"
      ],
      "metadata": {
        "colab": {
          "base_uri": "https://localhost:8080/"
        },
        "id": "EAB4xjcDGwSi",
        "outputId": "a345df3f-5ded-444c-95de-d5fab8fc7525"
      },
      "execution_count": null,
      "outputs": [
        {
          "output_type": "stream",
          "name": "stdout",
          "text": [
            "25/25 [==============================] - 0s 2ms/step - loss: 0.0016 - accuracy: 1.0000\n",
            "Row model has a a Score:  [0.0016195472562685609, 1.0]\n",
            "7/7 [==============================] - 0s 2ms/step - loss: 0.0017 - accuracy: 1.0000\n",
            "Row model has a a Score:  [0.0016727496404200792, 1.0]\n"
          ]
        }
      ]
    },
    {
      "cell_type": "code",
      "source": [
        "#CNN"
      ],
      "metadata": {
        "id": "k4xlz6HEFo4o"
      },
      "execution_count": null,
      "outputs": []
    },
    {
      "cell_type": "code",
      "source": [
        "row_model_cnn = models.Sequential([\n",
        "    layers.Dense(64, activation='relu'),\n",
        "    layers.Dense(sz//rlen, activation='softmax')\n",
        "])"
      ],
      "metadata": {
        "id": "XViJX6AkUxhr"
      },
      "execution_count": null,
      "outputs": []
    },
    {
      "cell_type": "code",
      "source": [
        "row_model_cnn.compile(optimizer='adam',\n",
        "              loss='sparse_categorical_crossentropy',\n",
        "              metrics=['accuracy'])"
      ],
      "metadata": {
        "id": "QC1mNb9xUxiD"
      },
      "execution_count": null,
      "outputs": []
    },
    {
      "cell_type": "code",
      "source": [
        "row_model_cnn.fit(train_row_entries, train_row_labels, epochs=10)"
      ],
      "metadata": {
        "colab": {
          "base_uri": "https://localhost:8080/"
        },
        "outputId": "f2ccf5c9-e5b0-4df1-c543-5b4db0cd6a3a",
        "id": "vU3qBeSrUxiE"
      },
      "execution_count": null,
      "outputs": [
        {
          "output_type": "stream",
          "name": "stdout",
          "text": [
            "Epoch 1/10\n",
            "25/25 [==============================] - 0s 2ms/step - loss: 3.8680 - accuracy: 0.0750\n",
            "Epoch 2/10\n",
            "25/25 [==============================] - 0s 2ms/step - loss: 3.7263 - accuracy: 0.4175\n",
            "Epoch 3/10\n",
            "25/25 [==============================] - 0s 2ms/step - loss: 3.5650 - accuracy: 0.7138\n",
            "Epoch 4/10\n",
            "25/25 [==============================] - 0s 2ms/step - loss: 3.3675 - accuracy: 0.9137\n",
            "Epoch 5/10\n",
            "25/25 [==============================] - 0s 2ms/step - loss: 3.1190 - accuracy: 0.9625\n",
            "Epoch 6/10\n",
            "25/25 [==============================] - 0s 2ms/step - loss: 2.8187 - accuracy: 0.9862\n",
            "Epoch 7/10\n",
            "25/25 [==============================] - 0s 2ms/step - loss: 2.4683 - accuracy: 0.9937\n",
            "Epoch 8/10\n",
            "25/25 [==============================] - 0s 2ms/step - loss: 2.0859 - accuracy: 1.0000\n",
            "Epoch 9/10\n",
            "25/25 [==============================] - 0s 1ms/step - loss: 1.6902 - accuracy: 1.0000\n",
            "Epoch 10/10\n",
            "25/25 [==============================] - 0s 2ms/step - loss: 1.3146 - accuracy: 1.0000\n"
          ]
        },
        {
          "output_type": "execute_result",
          "data": {
            "text/plain": [
              "<keras.callbacks.History at 0x7f82cf8b65d0>"
            ]
          },
          "metadata": {},
          "execution_count": 122
        }
      ]
    },
    {
      "cell_type": "code",
      "source": [
        "print(\"Row model has a a Score: \", row_model_cnn.evaluate(train_row_entries, train_row_labels))\n",
        "print(\"Row model has a a Score: \", row_model_cnn.evaluate(val_row_entries, val_row_labels))"
      ],
      "metadata": {
        "colab": {
          "base_uri": "https://localhost:8080/"
        },
        "outputId": "5d7df2dd-55bd-4b33-8234-dc70b17b1f6d",
        "id": "c0NqGqzxHYz6"
      },
      "execution_count": null,
      "outputs": [
        {
          "output_type": "stream",
          "name": "stdout",
          "text": [
            "25/25 [==============================] - 0s 1ms/step - loss: 1.1281 - accuracy: 1.0000\n",
            "Row model has a a Score:  [1.1280527114868164, 1.0]\n",
            "7/7 [==============================] - 0s 3ms/step - loss: 1.1829 - accuracy: 1.0000\n",
            "Row model has a a Score:  [1.1828750371932983, 1.0]\n"
          ]
        }
      ]
    },
    {
      "cell_type": "markdown",
      "source": [
        "## For Column"
      ],
      "metadata": {
        "id": "Cl5sAdgIGPT0"
      }
    },
    {
      "cell_type": "code",
      "source": [
        "import tensorflow as tf\n",
        "from tensorflow.keras import datasets, layers, models\n",
        "import matplotlib.pyplot as plt\n",
        "import numpy as np"
      ],
      "metadata": {
        "id": "P_RObbfcI59k"
      },
      "execution_count": null,
      "outputs": []
    },
    {
      "cell_type": "code",
      "source": [
        "#ann\n",
        "col_model_ann = models.Sequential([\n",
        "        layers.Dense(500, activation='relu'),\n",
        "        layers.Dense(200, activation='relu'),\n",
        "        layers.Dense(rlen-1, activation='softmax')    \n",
        "    ])\n",
        "\n",
        "col_model_ann.compile(optimizer='adam',\n",
        "              loss='sparse_categorical_crossentropy',\n",
        "              metrics=['accuracy'])\n",
        "\n",
        "col_model_ann.fit(train_col_entries, train_col_labels, epochs=20)"
      ],
      "metadata": {
        "colab": {
          "base_uri": "https://localhost:8080/"
        },
        "outputId": "4c81198e-8042-470a-b868-51a8b7412061",
        "id": "bIaIerq7I59l"
      },
      "execution_count": null,
      "outputs": [
        {
          "output_type": "stream",
          "name": "stdout",
          "text": [
            "Epoch 1/20\n",
            "25/25 [==============================] - 1s 7ms/step - loss: 2.9833 - accuracy: 0.1125\n",
            "Epoch 2/20\n",
            "25/25 [==============================] - 0s 7ms/step - loss: 2.8659 - accuracy: 0.4425\n",
            "Epoch 3/20\n",
            "25/25 [==============================] - 0s 6ms/step - loss: 2.6159 - accuracy: 0.7075\n",
            "Epoch 4/20\n",
            "25/25 [==============================] - 0s 6ms/step - loss: 2.0385 - accuracy: 0.9337\n",
            "Epoch 5/20\n",
            "25/25 [==============================] - 0s 7ms/step - loss: 1.1083 - accuracy: 0.9975\n",
            "Epoch 6/20\n",
            "25/25 [==============================] - 0s 6ms/step - loss: 0.3662 - accuracy: 1.0000\n",
            "Epoch 7/20\n",
            "25/25 [==============================] - 0s 6ms/step - loss: 0.0999 - accuracy: 1.0000\n",
            "Epoch 8/20\n",
            "25/25 [==============================] - 0s 6ms/step - loss: 0.0393 - accuracy: 1.0000\n",
            "Epoch 9/20\n",
            "25/25 [==============================] - 0s 6ms/step - loss: 0.0229 - accuracy: 1.0000\n",
            "Epoch 10/20\n",
            "25/25 [==============================] - 0s 6ms/step - loss: 0.0157 - accuracy: 1.0000\n",
            "Epoch 11/20\n",
            "25/25 [==============================] - 0s 6ms/step - loss: 0.0116 - accuracy: 1.0000\n",
            "Epoch 12/20\n",
            "25/25 [==============================] - 0s 6ms/step - loss: 0.0091 - accuracy: 1.0000\n",
            "Epoch 13/20\n",
            "25/25 [==============================] - 0s 6ms/step - loss: 0.0072 - accuracy: 1.0000\n",
            "Epoch 14/20\n",
            "25/25 [==============================] - 0s 6ms/step - loss: 0.0059 - accuracy: 1.0000\n",
            "Epoch 15/20\n",
            "25/25 [==============================] - 0s 7ms/step - loss: 0.0050 - accuracy: 1.0000\n",
            "Epoch 16/20\n",
            "25/25 [==============================] - 0s 6ms/step - loss: 0.0042 - accuracy: 1.0000\n",
            "Epoch 17/20\n",
            "25/25 [==============================] - 0s 6ms/step - loss: 0.0037 - accuracy: 1.0000\n",
            "Epoch 18/20\n",
            "25/25 [==============================] - 0s 6ms/step - loss: 0.0032 - accuracy: 1.0000\n",
            "Epoch 19/20\n",
            "25/25 [==============================] - 0s 6ms/step - loss: 0.0028 - accuracy: 1.0000\n",
            "Epoch 20/20\n",
            "25/25 [==============================] - 0s 6ms/step - loss: 0.0025 - accuracy: 1.0000\n"
          ]
        },
        {
          "output_type": "execute_result",
          "data": {
            "text/plain": [
              "<keras.callbacks.History at 0x7f82cfcf0a50>"
            ]
          },
          "metadata": {},
          "execution_count": 125
        }
      ]
    },
    {
      "cell_type": "code",
      "source": [
        "col_model_ann.evaluate(val_col_entries, val_col_labels)"
      ],
      "metadata": {
        "colab": {
          "base_uri": "https://localhost:8080/"
        },
        "outputId": "afde44a7-1c84-4c3e-ce46-336504005d25",
        "id": "vrSj8gs8I59n"
      },
      "execution_count": null,
      "outputs": [
        {
          "output_type": "stream",
          "name": "stdout",
          "text": [
            "7/7 [==============================] - 0s 3ms/step - loss: 1.3450 - accuracy: 0.6000\n"
          ]
        },
        {
          "output_type": "execute_result",
          "data": {
            "text/plain": [
              "[1.3449914455413818, 0.6000000238418579]"
            ]
          },
          "metadata": {},
          "execution_count": 126
        }
      ]
    },
    {
      "cell_type": "code",
      "source": [
        "print(\"col model has a a Score: \", col_model_ann.evaluate(train_col_entries, train_col_labels))\n",
        "print(\"col model has a a Score: \", col_model_ann.evaluate(val_col_entries, val_col_labels))"
      ],
      "metadata": {
        "colab": {
          "base_uri": "https://localhost:8080/"
        },
        "outputId": "7d39023f-1b68-4b00-92a0-6ba8e0d6f7a3",
        "id": "FDJ7wWRsI59n"
      },
      "execution_count": null,
      "outputs": [
        {
          "output_type": "stream",
          "name": "stdout",
          "text": [
            "25/25 [==============================] - 0s 3ms/step - loss: 0.0023 - accuracy: 1.0000\n",
            "col model has a a Score:  [0.0022856821306049824, 1.0]\n",
            "7/7 [==============================] - 0s 3ms/step - loss: 1.3450 - accuracy: 0.6000\n",
            "col model has a a Score:  [1.3449914455413818, 0.6000000238418579]\n"
          ]
        }
      ]
    },
    {
      "cell_type": "code",
      "source": [
        "#CNN"
      ],
      "metadata": {
        "id": "cxahLOkuI59n"
      },
      "execution_count": null,
      "outputs": []
    },
    {
      "cell_type": "code",
      "source": [
        "col_model_cnn = models.Sequential([\n",
        "    layers.Dense(64, activation='relu'),\n",
        "    layers.Dense(rlen-1, activation='softmax')\n",
        "])"
      ],
      "metadata": {
        "id": "L06FC7CaI59n"
      },
      "execution_count": null,
      "outputs": []
    },
    {
      "cell_type": "code",
      "source": [
        "col_model_cnn.compile(optimizer='adam',\n",
        "              loss='sparse_categorical_crossentropy',\n",
        "              metrics=['accuracy'])"
      ],
      "metadata": {
        "id": "92gD_LczI59n"
      },
      "execution_count": null,
      "outputs": []
    },
    {
      "cell_type": "code",
      "source": [
        "col_model_cnn.fit(train_col_entries, train_col_labels, epochs=10)"
      ],
      "metadata": {
        "colab": {
          "base_uri": "https://localhost:8080/"
        },
        "outputId": "24f79d64-bbb3-4747-a389-33f5cef2b605",
        "id": "9u-NuwOdI59o"
      },
      "execution_count": null,
      "outputs": [
        {
          "output_type": "stream",
          "name": "stdout",
          "text": [
            "Epoch 1/10\n",
            "25/25 [==============================] - 0s 2ms/step - loss: 2.9930 - accuracy: 0.0613\n",
            "Epoch 2/10\n",
            "25/25 [==============================] - 0s 3ms/step - loss: 2.9630 - accuracy: 0.1775\n",
            "Epoch 3/10\n",
            "25/25 [==============================] - 0s 3ms/step - loss: 2.9320 - accuracy: 0.2975\n",
            "Epoch 4/10\n",
            "25/25 [==============================] - 0s 2ms/step - loss: 2.8937 - accuracy: 0.4050\n",
            "Epoch 5/10\n",
            "25/25 [==============================] - 0s 2ms/step - loss: 2.8465 - accuracy: 0.5500\n",
            "Epoch 6/10\n",
            "25/25 [==============================] - 0s 2ms/step - loss: 2.7848 - accuracy: 0.6275\n",
            "Epoch 7/10\n",
            "25/25 [==============================] - 0s 2ms/step - loss: 2.7055 - accuracy: 0.7075\n",
            "Epoch 8/10\n",
            "25/25 [==============================] - 0s 2ms/step - loss: 2.6036 - accuracy: 0.7875\n",
            "Epoch 9/10\n",
            "25/25 [==============================] - 0s 2ms/step - loss: 2.4744 - accuracy: 0.8562\n",
            "Epoch 10/10\n",
            "25/25 [==============================] - 0s 2ms/step - loss: 2.3145 - accuracy: 0.9337\n"
          ]
        },
        {
          "output_type": "execute_result",
          "data": {
            "text/plain": [
              "<keras.callbacks.History at 0x7f82cfb61d50>"
            ]
          },
          "metadata": {},
          "execution_count": 131
        }
      ]
    },
    {
      "cell_type": "code",
      "source": [
        "col_model_cnn.evaluate(val_col_entries, val_col_labels)"
      ],
      "metadata": {
        "colab": {
          "base_uri": "https://localhost:8080/"
        },
        "outputId": "cc8c37d0-96bf-45a8-e61d-ecdd815b0e07",
        "id": "nIY6iKkdI59o"
      },
      "execution_count": null,
      "outputs": [
        {
          "output_type": "stream",
          "name": "stdout",
          "text": [
            "7/7 [==============================] - 0s 2ms/step - loss: 2.5882 - accuracy: 0.5800\n"
          ]
        },
        {
          "output_type": "execute_result",
          "data": {
            "text/plain": [
              "[2.5882151126861572, 0.5799999833106995]"
            ]
          },
          "metadata": {},
          "execution_count": 132
        }
      ]
    },
    {
      "cell_type": "code",
      "source": [
        "print(\"col model has a a Score: \",col_model_cnn.evaluate(train_col_entries, train_col_labels))\n",
        "print(\"col model has a a Score: \", col_model_cnn.evaluate(val_col_entries, val_col_labels))"
      ],
      "metadata": {
        "colab": {
          "base_uri": "https://localhost:8080/"
        },
        "outputId": "26f810a3-3968-4b01-f5cc-ba10ac6830b7",
        "id": "2NyUm-i1I59o"
      },
      "execution_count": null,
      "outputs": [
        {
          "output_type": "stream",
          "name": "stdout",
          "text": [
            "25/25 [==============================] - 0s 2ms/step - loss: 2.2016 - accuracy: 0.9663\n",
            "col model has a a Score:  [2.2016491889953613, 0.9662500023841858]\n",
            "7/7 [==============================] - 0s 2ms/step - loss: 2.5882 - accuracy: 0.5800\n",
            "col model has a a Score:  [2.5882151126861572, 0.5799999833106995]\n"
          ]
        }
      ]
    },
    {
      "cell_type": "markdown",
      "source": [
        "#(Data contain row and col both)"
      ],
      "metadata": {
        "id": "op4a1pQ01MtT"
      }
    },
    {
      "cell_type": "markdown",
      "source": [
        "## Linear Regression"
      ],
      "metadata": {
        "id": "po86okNA3Za-"
      }
    },
    {
      "cell_type": "code",
      "source": [
        "from sklearn.linear_model import LinearRegression\n",
        "row_model = LinearRegression()\n",
        "row_model.fit(train_entries, train_rows)"
      ],
      "metadata": {
        "colab": {
          "base_uri": "https://localhost:8080/"
        },
        "outputId": "cb33cc0b-9fe3-4093-e7e4-31aa23e9ec49",
        "id": "FLoZLRf33Za_"
      },
      "execution_count": null,
      "outputs": [
        {
          "output_type": "execute_result",
          "data": {
            "text/plain": [
              "LinearRegression()"
            ]
          },
          "metadata": {},
          "execution_count": 134
        }
      ]
    },
    {
      "cell_type": "code",
      "source": [
        "col_model = LinearRegression()\n",
        "col_model.fit(train_entries, train_cols)"
      ],
      "metadata": {
        "colab": {
          "base_uri": "https://localhost:8080/"
        },
        "outputId": "94e8cab6-c0e6-480b-cbe6-855c7975cae9",
        "id": "14hHoX_B3ZbA"
      },
      "execution_count": null,
      "outputs": [
        {
          "output_type": "execute_result",
          "data": {
            "text/plain": [
              "LinearRegression()"
            ]
          },
          "metadata": {},
          "execution_count": 135
        }
      ]
    },
    {
      "cell_type": "code",
      "source": [
        "print(\"Row model has a a Score: \", row_model.score(train_entries, train_rows))\n",
        "print(\"Col model has a b Score: \",col_model.score(train_entries, train_cols))"
      ],
      "metadata": {
        "colab": {
          "base_uri": "https://localhost:8080/"
        },
        "outputId": "846c000c-a54c-4a2e-c7ec-3872854a3821",
        "id": "k7D-H6UI3ZbA"
      },
      "execution_count": null,
      "outputs": [
        {
          "output_type": "stream",
          "name": "stdout",
          "text": [
            "Row model has a a Score:  1.0\n",
            "Col model has a b Score:  1.0\n"
          ]
        }
      ]
    },
    {
      "cell_type": "code",
      "source": [
        "print(\"Row model has a a Score: \", row_model.score(val_entries, val_rows))\n",
        "print(\"Col model has a b Score: \",col_model.score(val_entries, val_cols))"
      ],
      "metadata": {
        "colab": {
          "base_uri": "https://localhost:8080/"
        },
        "outputId": "54a39c18-1584-4dc6-fb09-9c4785ae0134",
        "id": "xHCodfSm3ZbA"
      },
      "execution_count": null,
      "outputs": [
        {
          "output_type": "stream",
          "name": "stdout",
          "text": [
            "Row model has a a Score:  0.9850451456975633\n",
            "Col model has a b Score:  0.4445099132842445\n"
          ]
        }
      ]
    },
    {
      "cell_type": "markdown",
      "source": [
        "## Ridge Regression"
      ],
      "metadata": {
        "id": "y0YyrHnJ8KgL"
      }
    },
    {
      "cell_type": "code",
      "source": [
        "from sklearn.linear_model import Ridge\n",
        "row_model = Ridge()\n",
        "row_model.fit(train_entries, train_rows)"
      ],
      "metadata": {
        "colab": {
          "base_uri": "https://localhost:8080/"
        },
        "id": "UTj0gZgC8Hi1",
        "outputId": "7899f2d8-808a-4315-efff-24e92a19bc3c"
      },
      "execution_count": null,
      "outputs": [
        {
          "output_type": "execute_result",
          "data": {
            "text/plain": [
              "Ridge()"
            ]
          },
          "metadata": {},
          "execution_count": 138
        }
      ]
    },
    {
      "cell_type": "code",
      "source": [
        "col_model = Ridge()\n",
        "col_model.fit(train_entries, train_cols)"
      ],
      "metadata": {
        "colab": {
          "base_uri": "https://localhost:8080/"
        },
        "id": "x4BQvwSY8cRG",
        "outputId": "7d1a0c53-415a-4833-fcc8-e565e370685b"
      },
      "execution_count": null,
      "outputs": [
        {
          "output_type": "execute_result",
          "data": {
            "text/plain": [
              "Ridge()"
            ]
          },
          "metadata": {},
          "execution_count": 139
        }
      ]
    },
    {
      "cell_type": "code",
      "source": [
        "'''\n",
        "Return the coefficient of determination of the prediction.\n",
        "\n",
        "The coefficient of determination  is defined as \n",
        "\n",
        ", where  is the residual sum of squares ((y_true - y_pred)** 2).sum() and  is the total sum of squares ((y_true - y_true.mean()) ** 2).sum(). \n",
        "The best possible score is 1.0 and it can be negative (because the model can be arbitrarily worse). \n",
        "A constant model that always predicts the expected value of y, disregarding the input features, would get a  score of 0.0.\n",
        "\n",
        "'''"
      ],
      "metadata": {
        "colab": {
          "base_uri": "https://localhost:8080/",
          "height": 122
        },
        "id": "XHUldiNu9nt4",
        "outputId": "1e13bfcf-60b5-4506-e31b-92bf659866e3"
      },
      "execution_count": null,
      "outputs": [
        {
          "output_type": "execute_result",
          "data": {
            "text/plain": [
              "'\\nReturn the coefficient of determination of the prediction.\\n\\nThe coefficient of determination  is defined as \\n\\n, where  is the residual sum of squares ((y_true - y_pred)** 2).sum() and  is the total sum of squares ((y_true - y_true.mean()) ** 2).sum(). \\nThe best possible score is 1.0 and it can be negative (because the model can be arbitrarily worse). \\nA constant model that always predicts the expected value of y, disregarding the input features, would get a  score of 0.0.\\n\\n'"
            ],
            "application/vnd.google.colaboratory.intrinsic+json": {
              "type": "string"
            }
          },
          "metadata": {},
          "execution_count": 140
        }
      ]
    },
    {
      "cell_type": "code",
      "source": [
        "print(\"Row model has a a Score: \", row_model.score(train_entries, train_rows))\n",
        "print(\"Col model has a b Score: \",col_model.score(train_entries, train_cols))"
      ],
      "metadata": {
        "colab": {
          "base_uri": "https://localhost:8080/"
        },
        "id": "zAnk7wfSsXEz",
        "outputId": "d86a080c-348d-4dfc-d460-0ae346a02e3a"
      },
      "execution_count": null,
      "outputs": [
        {
          "output_type": "stream",
          "name": "stdout",
          "text": [
            "Row model has a a Score:  0.9965445619290669\n",
            "Col model has a b Score:  0.83928402622763\n"
          ]
        }
      ]
    },
    {
      "cell_type": "code",
      "source": [
        "print(\"Row model has a a Score: \", row_model.score(val_entries, val_rows))\n",
        "print(\"Col model has a b Score: \",col_model.score(val_entries, val_cols))"
      ],
      "metadata": {
        "colab": {
          "base_uri": "https://localhost:8080/"
        },
        "id": "hMuoAHNA8hB7",
        "outputId": "2cd32d98-6d02-4b7b-ed63-3e55c6211265"
      },
      "execution_count": null,
      "outputs": [
        {
          "output_type": "stream",
          "name": "stdout",
          "text": [
            "Row model has a a Score:  0.9876610737551275\n",
            "Col model has a b Score:  0.41383302521267507\n"
          ]
        }
      ]
    },
    {
      "cell_type": "markdown",
      "source": [
        "## Random Forest Regression"
      ],
      "metadata": {
        "id": "ntp4W-HHtfv_"
      }
    },
    {
      "cell_type": "code",
      "source": [
        "from sklearn.ensemble import RandomForestRegressor\n",
        "row_model = RandomForestRegressor()\n",
        "row_model.fit(train_entries, train_rows)"
      ],
      "metadata": {
        "colab": {
          "base_uri": "https://localhost:8080/"
        },
        "outputId": "e0968309-acec-43cc-89ce-62c03d2963dc",
        "id": "GsPSH77_tfwB"
      },
      "execution_count": null,
      "outputs": [
        {
          "output_type": "execute_result",
          "data": {
            "text/plain": [
              "RandomForestRegressor()"
            ]
          },
          "metadata": {},
          "execution_count": 143
        }
      ]
    },
    {
      "cell_type": "code",
      "source": [
        "col_model = RandomForestRegressor()\n",
        "col_model.fit(train_entries, train_cols)"
      ],
      "metadata": {
        "colab": {
          "base_uri": "https://localhost:8080/"
        },
        "outputId": "edd307ba-c975-4060-c157-de1984050651",
        "id": "1Wo7qIgZtfwC"
      },
      "execution_count": null,
      "outputs": [
        {
          "output_type": "execute_result",
          "data": {
            "text/plain": [
              "RandomForestRegressor()"
            ]
          },
          "metadata": {},
          "execution_count": 144
        }
      ]
    },
    {
      "cell_type": "code",
      "source": [
        "print(\"Row model has a a Score: \", row_model.score(train_entries, train_rows))\n",
        "print(\"Col model has a b Score: \",col_model.score(train_entries, train_cols))"
      ],
      "metadata": {
        "colab": {
          "base_uri": "https://localhost:8080/"
        },
        "outputId": "6ad5b969-c277-4f45-9716-8d9c6fe4e2c3",
        "id": "zKEygAi9tfwD"
      },
      "execution_count": null,
      "outputs": [
        {
          "output_type": "stream",
          "name": "stdout",
          "text": [
            "Row model has a a Score:  1.0\n",
            "Col model has a b Score:  0.9122062358378433\n"
          ]
        }
      ]
    },
    {
      "cell_type": "code",
      "source": [
        "print(\"Row model has a a Score: \", row_model.score(val_entries, val_rows))\n",
        "print(\"Col model has a b Score: \",col_model.score(val_entries, val_cols))"
      ],
      "metadata": {
        "colab": {
          "base_uri": "https://localhost:8080/"
        },
        "outputId": "c037ca05-52fb-476d-c550-823f63657c05",
        "id": "5kZNuDnAtfwD"
      },
      "execution_count": null,
      "outputs": [
        {
          "output_type": "stream",
          "name": "stdout",
          "text": [
            "Row model has a a Score:  1.0\n",
            "Col model has a b Score:  0.47405348852113216\n"
          ]
        }
      ]
    }
  ]
}